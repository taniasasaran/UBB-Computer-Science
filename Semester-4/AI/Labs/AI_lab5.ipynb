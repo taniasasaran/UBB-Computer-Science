{
 "cells": [
  {
   "cell_type": "markdown",
   "id": "b8210b19",
   "metadata": {},
   "source": [
    "## A.I. Assignment 5\n",
    "\n",
    "## Learning Goals\n",
    "\n",
    "By the end of this lab, you should be able to:\n",
    "* Get more familiar with tensors in pytorch \n",
    "* Create a simple multilayer perceptron model with pytorch\n",
    "* Visualise the parameters\n",
    "\n",
    "\n",
    "### Task\n",
    "\n",
    "Build a fully connected feed forward network that adds two bits. Determine the a propper achitecture for this network (what database you use for this problem? how many layers? how many neurons on each layer? what is the activation function? what is the loss function? etc)\n",
    "\n",
    "Create at least 3 such networks and compare their performance (how accurate they are?, how farst they are trained to get at 1 accuracy?)\n",
    "\n",
    "Display for the best one the weights for each layer.\n"
   ]
  },
  {
   "cell_type": "code",
   "execution_count": 1,
   "id": "e3614e5f",
   "metadata": {},
   "outputs": [],
   "source": [
    "import torch\n",
    "import torch.nn as nn\n",
    "from collections import OrderedDict\n"
   ]
  },
  {
   "cell_type": "code",
   "execution_count": 2,
   "id": "5ee7e7d7",
   "metadata": {},
   "outputs": [],
   "source": [
    "# your code here\n",
    "model1 = nn.Sequential(OrderedDict([\n",
    "    ('hidden_net', nn.Linear(2,32)),\n",
    "    ('hidden_act', nn.Sigmoid()),\n",
    "    ('output_net', nn.Linear(32,2)),\n",
    "    ('output_act', nn.Sigmoid())\n",
    "]))\n",
    "model2 = nn.Sequential(OrderedDict([\n",
    "    ('hidden_net', nn.Linear(2,8)),\n",
    "    ('hidden_act', nn.ReLU()),\n",
    "    ('output_net', nn.Linear(8,2)),\n",
    "    ('output_act', nn.Sigmoid())\n",
    "]))\n",
    "model3 = nn.Sequential(OrderedDict([\n",
    "    ('hidden_net', nn.Linear(2,16)),\n",
    "    ('hidden_act', nn.Sigmoid()),\n",
    "    ('output_net', nn.Linear(16,2)),\n",
    "    ('output_act', nn.Sigmoid())\n",
    "]))"
   ]
  },
  {
   "cell_type": "code",
   "execution_count": 3,
   "id": "665ae958",
   "metadata": {},
   "outputs": [
    {
     "name": "stdout",
     "output_type": "stream",
     "text": [
      "Sequential(\n",
      "  (hidden_net): Linear(in_features=2, out_features=32, bias=True)\n",
      "  (hidden_act): Sigmoid()\n",
      "  (output_net): Linear(in_features=32, out_features=2, bias=True)\n",
      "  (output_act): Sigmoid()\n",
      ")\n",
      "Sequential(\n",
      "  (hidden_net): Linear(in_features=2, out_features=8, bias=True)\n",
      "  (hidden_act): ReLU()\n",
      "  (output_net): Linear(in_features=8, out_features=2, bias=True)\n",
      "  (output_act): Sigmoid()\n",
      ")\n",
      "Sequential(\n",
      "  (hidden_net): Linear(in_features=2, out_features=16, bias=True)\n",
      "  (hidden_act): Sigmoid()\n",
      "  (output_net): Linear(in_features=16, out_features=2, bias=True)\n",
      "  (output_act): Sigmoid()\n",
      ")\n"
     ]
    }
   ],
   "source": [
    "print(model1)\n",
    "print(model2)\n",
    "print(model3)"
   ]
  },
  {
   "cell_type": "code",
   "execution_count": 4,
   "id": "e26f0d3e",
   "metadata": {},
   "outputs": [
    {
     "name": "stdout",
     "output_type": "stream",
     "text": [
      "tensor([[0., 0.],\n",
      "        [0., 1.],\n",
      "        [1., 0.],\n",
      "        [1., 1.]])\n"
     ]
    }
   ],
   "source": [
    "# your code here\n",
    "data_in = torch.tensor([[0, 0], [0, 1], [1, 0], [1, 1]], dtype=torch.float)\n",
    "print(data_in)"
   ]
  },
  {
   "cell_type": "code",
   "execution_count": 5,
   "id": "4fb16bbc",
   "metadata": {},
   "outputs": [
    {
     "name": "stdout",
     "output_type": "stream",
     "text": [
      "tensor([[0., 0.],\n",
      "        [0., 1.],\n",
      "        [0., 1.],\n",
      "        [1., 0.]])\n"
     ]
    }
   ],
   "source": [
    "# your code here\n",
    "data_target = torch.tensor([[0, 0], [0, 1], [0, 1], [1, 0]], dtype=torch.float)\n",
    "print(data_target)"
   ]
  },
  {
   "cell_type": "code",
   "execution_count": 6,
   "id": "69d920ed",
   "metadata": {},
   "outputs": [],
   "source": [
    "# your code here\n",
    "criterion1 = nn.MSELoss()\n",
    "optimizer1 = torch.optim.Adam(model1.parameters(), lr=0.01)\n",
    "criterion2 = nn.CrossEntropyLoss()\n",
    "optimizer2 = torch.optim.SGD(model2.parameters(), lr=0.01, momentum=0.9)\n",
    "criterion3 = nn.L1Loss()\n",
    "optimizer3 = torch.optim.SGD(model3.parameters(), lr=0.01, momentum=0.9)"
   ]
  },
  {
   "cell_type": "code",
   "execution_count": 7,
   "id": "cde91f6f",
   "metadata": {},
   "outputs": [],
   "source": [
    "# your code here\n",
    "# Train the model\n",
    "def train(model, inputs, outputs, criterion, optimizer):\n",
    "    for epoch in range(100):\n",
    "        optimizer.zero_grad()\n",
    "        loss = criterion(model(inputs), outputs)\n",
    "        loss.backward()\n",
    "        optimizer.step()"
   ]
  },
  {
   "cell_type": "code",
   "execution_count": 8,
   "id": "dff3ec1a",
   "metadata": {},
   "outputs": [
    {
     "name": "stdout",
     "output_type": "stream",
     "text": [
      "tensor([[0., 0.],\n",
      "        [0., 1.],\n",
      "        [0., 1.],\n",
      "        [1., 0.]])\n",
      "Training Accuracy: 100.0\n",
      "tensor([[0., 1.],\n",
      "        [0., 1.],\n",
      "        [0., 1.],\n",
      "        [0., 1.]])\n",
      "Training Accuracy: 62.5\n",
      "tensor([[0., 1.],\n",
      "        [0., 1.],\n",
      "        [0., 1.],\n",
      "        [0., 1.]])\n",
      "Training Accuracy: 62.5\n"
     ]
    }
   ],
   "source": [
    "# your code here\n",
    "for model in [model1, model2, model3]:\n",
    "    if model == model1:\n",
    "        criterion = criterion1\n",
    "        optimizer = optimizer1\n",
    "    if model == model2:\n",
    "        criterion = criterion2\n",
    "        optimizer = optimizer2\n",
    "    if model == model3:\n",
    "        criterion = criterion3\n",
    "        optimizer = optimizer3\n",
    "    train(model, data_in, data_target, criterion, optimizer)\n",
    "    outputs = model(data_in)\n",
    "    predicted = (outputs >=0.5).float()\n",
    "    print(predicted)\n",
    "    accuracy = (predicted == data_target).float().mean()\n",
    "    print(f'Training Accuracy: {accuracy.item()*100}')"
   ]
  },
  {
   "cell_type": "code",
   "execution_count": 9,
   "id": "c1a7518b",
   "metadata": {},
   "outputs": [
    {
     "name": "stdout",
     "output_type": "stream",
     "text": [
      "Weight of network1 :\n",
      " Parameter containing:\n",
      "tensor([[-1.3750,  0.2599],\n",
      "        [-1.6167, -0.4605],\n",
      "        [ 1.1121,  0.7643],\n",
      "        [ 1.7055,  0.6342],\n",
      "        [ 0.3950,  0.7232],\n",
      "        [-1.5138, -0.3796],\n",
      "        [ 1.8460,  1.8926],\n",
      "        [-1.3522, -1.5757],\n",
      "        [-0.1028,  0.0304],\n",
      "        [ 1.1310,  1.3414],\n",
      "        [ 0.2228,  1.4202],\n",
      "        [ 0.7743,  1.3382],\n",
      "        [-0.1841, -1.2329],\n",
      "        [ 1.2972,  0.8071],\n",
      "        [-0.6247, -1.3120],\n",
      "        [ 0.6538,  0.4297],\n",
      "        [ 0.0842, -1.5751],\n",
      "        [ 0.1314,  0.1331],\n",
      "        [-1.5196, -1.0753],\n",
      "        [-0.8609, -1.2551],\n",
      "        [-1.2550, -1.2251],\n",
      "        [ 0.1148,  0.2359],\n",
      "        [-0.2617, -0.0129],\n",
      "        [ 0.9688,  1.4007],\n",
      "        [-0.1862, -1.5389],\n",
      "        [-1.0369, -1.4186],\n",
      "        [ 0.5447, -1.3365],\n",
      "        [-1.0851, -1.3625],\n",
      "        [-0.9758, -0.8136],\n",
      "        [ 1.7306,  1.9294],\n",
      "        [-1.2929, -0.8402],\n",
      "        [-1.3337, -1.2364]], requires_grad=True)\n",
      "Weight of network2 :\n",
      " Parameter containing:\n",
      "tensor([[-0.2024, -0.0691],\n",
      "        [-0.5390, -0.4365],\n",
      "        [-0.6467,  0.1819],\n",
      "        [ 0.3770, -0.5435],\n",
      "        [ 0.3803, -0.0744],\n",
      "        [ 0.2876,  0.4924],\n",
      "        [ 0.5065,  0.1723],\n",
      "        [-0.4587, -0.4713]], requires_grad=True)\n",
      "Weight of network3 :\n",
      " Parameter containing:\n",
      "tensor([[ 0.2415,  0.0117],\n",
      "        [ 0.4273, -0.0864],\n",
      "        [-0.1175,  0.3635],\n",
      "        [-0.4731, -0.1597],\n",
      "        [ 0.2625,  0.4702],\n",
      "        [-0.0048, -0.4901],\n",
      "        [ 0.1799, -0.0281],\n",
      "        [ 0.4844,  0.2732],\n",
      "        [-0.3567,  0.6428],\n",
      "        [ 0.0308, -0.1190],\n",
      "        [ 0.5059,  0.1482],\n",
      "        [-0.3130,  0.4223],\n",
      "        [-0.3404, -0.3551],\n",
      "        [ 0.2745, -0.1053],\n",
      "        [ 0.6097,  0.1094],\n",
      "        [ 0.3665, -0.6203]], requires_grad=True)\n"
     ]
    }
   ],
   "source": [
    "# your code here\n",
    "print('Weight of network1 :\\n',model1[0].weight)\n",
    "print('Weight of network2 :\\n',model2[0].weight)\n",
    "print('Weight of network3 :\\n',model3[0].weight)\n"
   ]
  },
  {
   "cell_type": "code",
   "execution_count": null,
   "id": "4cdf09ba",
   "metadata": {},
   "outputs": [],
   "source": []
  },
  {
   "cell_type": "code",
   "execution_count": null,
   "id": "d0bea66c",
   "metadata": {},
   "outputs": [],
   "source": []
  },
  {
   "cell_type": "code",
   "execution_count": null,
   "id": "e29c65a2",
   "metadata": {},
   "outputs": [],
   "source": []
  },
  {
   "cell_type": "code",
   "execution_count": null,
   "id": "f24c224a",
   "metadata": {},
   "outputs": [],
   "source": []
  },
  {
   "cell_type": "code",
   "execution_count": null,
   "id": "4c1e9739",
   "metadata": {},
   "outputs": [],
   "source": []
  }
 ],
 "metadata": {
  "kernelspec": {
   "display_name": "Python 3 (ipykernel)",
   "language": "python",
   "name": "python3"
  },
  "language_info": {
   "codemirror_mode": {
    "name": "ipython",
    "version": 3
   },
   "file_extension": ".py",
   "mimetype": "text/x-python",
   "name": "python",
   "nbconvert_exporter": "python",
   "pygments_lexer": "ipython3",
   "version": "3.9.13"
  }
 },
 "nbformat": 4,
 "nbformat_minor": 5
}
